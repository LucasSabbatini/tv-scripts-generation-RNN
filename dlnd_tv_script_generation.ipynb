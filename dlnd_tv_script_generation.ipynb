{
 "cells": [
  {
   "cell_type": "markdown",
   "metadata": {},
   "source": [
    "# TV Script Generation\n",
    "In this project, you'll generate your own [Simpsons](https://en.wikipedia.org/wiki/The_Simpsons) TV scripts using RNNs.  You'll be using part of the [Simpsons dataset](https://www.kaggle.com/wcukierski/the-simpsons-by-the-data) of scripts from 27 seasons.  The Neural Network you'll build will generate a new TV script for a scene at [Moe's Tavern](https://simpsonswiki.com/wiki/Moe's_Tavern).\n",
    "## Get the Data\n",
    "The data is already provided for you.  You'll be using a subset of the original dataset.  It consists of only the scenes in Moe's Tavern.  This doesn't include other versions of the tavern, like \"Moe's Cavern\", \"Flaming Moe's\", \"Uncle Moe's Family Feed-Bag\", etc.."
   ]
  },
  {
   "cell_type": "code",
   "execution_count": 1,
   "metadata": {
    "collapsed": true
   },
   "outputs": [],
   "source": [
    "\"\"\"\n",
    "DON'T MODIFY ANYTHING IN THIS CELL\n",
    "\"\"\"\n",
    "import helper\n",
    "\n",
    "data_dir = '../data/simpsons/moes_tavern_lines.txt'\n",
    "text = helper.load_data(data_dir)\n",
    "# Ignore notice, since we don't use it for analysing the data\n",
    "text = text[81:]"
   ]
  },
  {
   "cell_type": "markdown",
   "metadata": {},
   "source": [
    "## Explore the Data\n",
    "Play around with `view_sentence_range` to view different parts of the data."
   ]
  },
  {
   "cell_type": "code",
   "execution_count": 2,
   "metadata": {},
   "outputs": [
    {
     "name": "stdout",
     "output_type": "stream",
     "text": [
      "Dataset Stats\n",
      "Roughly the number of unique words: 11492\n",
      "Number of scenes: 262\n",
      "Average number of sentences in each scene: 15.248091603053435\n",
      "Number of lines: 4257\n",
      "Average number of words in each line: 11.50434578341555\n",
      "\n",
      "The sentences 40 to 50:\n",
      "Moe_Szyslak: (INTO PHONE) Moe's Tavern. Hold on, I'll check. ... (LOUD) Hey everybody! I'm a stupid moron with an ugly face and a big butt, and my butt smells, and I like to kiss my own butt.\n",
      "Barney_Gumble: That's a new one (LAUGHING).\n",
      "Moe_Szyslak: Now wait a minute...\n",
      "\n",
      "\n",
      "Homer_Simpson: Hurry, Moe, hurry! I've only got five minutes till the music store closes.\n",
      "Moe_Szyslak: Why don't you go there first?\n",
      "Homer_Simpson: Hey, do I tell you how to do your job?\n",
      "Moe_Szyslak: Sorry, Homer.\n",
      "Homer_Simpson: You know, if you tip the glass, there won't be so much foam on top.\n"
     ]
    }
   ],
   "source": [
    "view_sentence_range = (40, 50)\n",
    "\n",
    "\"\"\"\n",
    "DON'T MODIFY ANYTHING IN THIS CELL\n",
    "\"\"\"\n",
    "import numpy as np\n",
    "\n",
    "print('Dataset Stats')\n",
    "print('Roughly the number of unique words: {}'.format(len({word: None for word in text.split()})))\n",
    "scenes = text.split('\\n\\n')\n",
    "print('Number of scenes: {}'.format(len(scenes)))\n",
    "sentence_count_scene = [scene.count('\\n') for scene in scenes]\n",
    "print('Average number of sentences in each scene: {}'.format(np.average(sentence_count_scene)))\n",
    "\n",
    "sentences = [sentence for scene in scenes for sentence in scene.split('\\n')]\n",
    "print('Number of lines: {}'.format(len(sentences)))\n",
    "word_count_sentence = [len(sentence.split()) for sentence in sentences]\n",
    "print('Average number of words in each line: {}'.format(np.average(word_count_sentence)))\n",
    "\n",
    "print()\n",
    "print('The sentences {} to {}:'.format(*view_sentence_range))\n",
    "print('\\n'.join(text.split('\\n')[view_sentence_range[0]:view_sentence_range[1]]))"
   ]
  },
  {
   "cell_type": "markdown",
   "metadata": {},
   "source": [
    "## Implement Preprocessing Functions\n",
    "The first thing to do to any dataset is preprocessing.  Implement the following preprocessing functions below:\n",
    "- Lookup Table\n",
    "- Tokenize Punctuation\n",
    "\n",
    "### Lookup Table\n",
    "To create a word embedding, you first need to transform the words to ids.  In this function, create two dictionaries:\n",
    "- Dictionary to go from the words to an id, we'll call `vocab_to_int`\n",
    "- Dictionary to go from the id to word, we'll call `int_to_vocab`\n",
    "\n",
    "Return these dictionaries in the following tuple `(vocab_to_int, int_to_vocab)`"
   ]
  },
  {
   "cell_type": "code",
   "execution_count": 3,
   "metadata": {},
   "outputs": [
    {
     "name": "stdout",
     "output_type": "stream",
     "text": [
      "Tests Passed\n"
     ]
    }
   ],
   "source": [
    "import numpy as np\n",
    "import problem_unittests as tests\n",
    "from collections import Counter\n",
    "\n",
    "def create_lookup_tables(text):\n",
    "    \"\"\"\n",
    "    Create lookup tables for vocabulary\n",
    "    :param text: The text of tv scripts split into words\n",
    "    :return: A tuple of dicts (vocab_to_int, int_to_vocab)\n",
    "    \"\"\"\n",
    "\n",
    "    # counter with every word\n",
    "    counts = Counter(text)\n",
    "\n",
    "    # vocab in decreasing order of frequency\n",
    "    vocab = [word for word, _ in counts.most_common()]\n",
    "\n",
    "    \n",
    "    # int to vocab dictionary. Starting at one for padding later\n",
    "    int_to_vocab = dict(enumerate(vocab))\n",
    "    \n",
    "    # vocab to int dictionary\n",
    "    vocab_to_int = {word: i for i, word in int_to_vocab.items()}\n",
    "    \n",
    "    return vocab_to_int, int_to_vocab\n",
    "\n",
    "\n",
    "\n",
    "\"\"\"\n",
    "DON'T MODIFY ANYTHING IN THIS CELL THAT IS BELOW THIS LINE\n",
    "\"\"\"\n",
    "tests.test_create_lookup_tables(create_lookup_tables)"
   ]
  },
  {
   "cell_type": "markdown",
   "metadata": {},
   "source": [
    "### Tokenize Punctuation\n",
    "We'll be splitting the script into a word array using spaces as delimiters.  However, punctuations like periods and exclamation marks make it hard for the neural network to distinguish between the word \"bye\" and \"bye!\".\n",
    "\n",
    "Implement the function `token_lookup` to return a dict that will be used to tokenize symbols like \"!\" into \"||Exclamation_Mark||\".  Create a dictionary for the following symbols where the symbol is the key and value is the token:\n",
    "- Period ( . )\n",
    "- Comma ( , )\n",
    "- Quotation Mark ( \" )\n",
    "- Semicolon ( ; )\n",
    "- Exclamation mark ( ! )\n",
    "- Question mark ( ? )\n",
    "- Left Parentheses ( ( )\n",
    "- Right Parentheses ( ) )\n",
    "- Dash ( -- )\n",
    "- Return ( \\n )\n",
    "\n",
    "This dictionary will be used to token the symbols and add the delimiter (space) around it.  This separates the symbols as it's own word, making it easier for the neural network to predict on the next word. Make sure you don't use a token that could be confused as a word. Instead of using the token \"dash\", try using something like \"||dash||\"."
   ]
  },
  {
   "cell_type": "code",
   "execution_count": 4,
   "metadata": {},
   "outputs": [
    {
     "name": "stdout",
     "output_type": "stream",
     "text": [
      "Tests Passed\n"
     ]
    }
   ],
   "source": [
    "def token_lookup():\n",
    "    \"\"\"\n",
    "    Generate a dict to turn punctuation into a token.\n",
    "    :return: Tokenize dictionary where the key is the punctuation and the value is the token\n",
    "    \"\"\"\n",
    "    # TODO: Implement Function\n",
    "    return {'.':\"||PERIOD||\", ',':\"||COMMA||\", '\"':\"||QUOTATION_MARK||\", ';':\"||SEMICOLON||\", \n",
    "            '!':\"||EXCLAMETION_MARK||\", '?':\"||QUESTION_MARK||\", '(':\"||LEFT_PARENTHESES||\", ')':\"||RIGHT_PARENTHESES||\",\n",
    "            '--':\"||DASH||\", '\\n':\"||RETURN||\"}\n",
    "\n",
    "\"\"\"\n",
    "DON'T MODIFY ANYTHING IN THIS CELL THAT IS BELOW THIS LINE\n",
    "\"\"\"\n",
    "tests.test_tokenize(token_lookup)"
   ]
  },
  {
   "cell_type": "markdown",
   "metadata": {},
   "source": [
    "## Preprocess all the data and save it\n",
    "Running the code cell below will preprocess all the data and save it to file."
   ]
  },
  {
   "cell_type": "code",
   "execution_count": 5,
   "metadata": {
    "collapsed": true
   },
   "outputs": [],
   "source": [
    "\"\"\"\n",
    "DON'T MODIFY ANYTHING IN THIS CELL\n",
    "\"\"\"\n",
    "# Preprocess Training, Validation, and Testing Data\n",
    "helper.preprocess_and_save_data(data_dir, token_lookup, create_lookup_tables)"
   ]
  },
  {
   "cell_type": "markdown",
   "metadata": {},
   "source": [
    "# Check Point\n",
    "This is your first checkpoint. If you ever decide to come back to this notebook or have to restart the notebook, you can start from here. The preprocessed data has been saved to disk."
   ]
  },
  {
   "cell_type": "code",
   "execution_count": 6,
   "metadata": {
    "collapsed": true
   },
   "outputs": [],
   "source": [
    "\"\"\"\n",
    "DON'T MODIFY ANYTHING IN THIS CELL\n",
    "\"\"\"\n",
    "import helper\n",
    "import numpy as np\n",
    "import problem_unittests as tests\n",
    "\n",
    "int_text, vocab_to_int, int_to_vocab, token_dict = helper.load_preprocess()"
   ]
  },
  {
   "cell_type": "markdown",
   "metadata": {},
   "source": [
    "## Build the Neural Network\n",
    "You'll build the components necessary to build a RNN by implementing the following functions below:\n",
    "- get_inputs\n",
    "- get_init_cell\n",
    "- get_embed\n",
    "- build_rnn\n",
    "- build_nn\n",
    "- get_batches\n",
    "\n",
    "### Check the Version of TensorFlow and Access to GPU"
   ]
  },
  {
   "cell_type": "code",
   "execution_count": 7,
   "metadata": {},
   "outputs": [
    {
     "name": "stdout",
     "output_type": "stream",
     "text": [
      "TensorFlow Version: 1.0.1\n",
      "Default GPU Device: /gpu:0\n"
     ]
    }
   ],
   "source": [
    "\"\"\"\n",
    "DON'T MODIFY ANYTHING IN THIS CELL\n",
    "\"\"\"\n",
    "from distutils.version import LooseVersion\n",
    "import warnings\n",
    "import tensorflow as tf\n",
    "\n",
    "# Check TensorFlow Version\n",
    "assert LooseVersion(tf.__version__) >= LooseVersion('1.0'), 'Please use TensorFlow version 1.0 or newer'\n",
    "print('TensorFlow Version: {}'.format(tf.__version__))\n",
    "\n",
    "# Check for a GPU\n",
    "if not tf.test.gpu_device_name():\n",
    "    warnings.warn('No GPU found. Please use a GPU to train your neural network.')\n",
    "else:\n",
    "    print('Default GPU Device: {}'.format(tf.test.gpu_device_name()))"
   ]
  },
  {
   "cell_type": "markdown",
   "metadata": {},
   "source": [
    "### Input\n",
    "Implement the `get_inputs()` function to create TF Placeholders for the Neural Network.  It should create the following placeholders:\n",
    "- Input text placeholder named \"input\" using the [TF Placeholder](https://www.tensorflow.org/api_docs/python/tf/placeholder) `name` parameter.\n",
    "- Targets placeholder\n",
    "- Learning Rate placeholder\n",
    "\n",
    "Return the placeholders in the following tuple `(Input, Targets, LearningRate)`"
   ]
  },
  {
   "cell_type": "code",
   "execution_count": 8,
   "metadata": {},
   "outputs": [
    {
     "name": "stdout",
     "output_type": "stream",
     "text": [
      "Tests Passed\n"
     ]
    }
   ],
   "source": [
    "def get_inputs():\n",
    "    \"\"\"\n",
    "    Create TF Placeholders for input, targets, and learning rate.\n",
    "    :return: Tuple (input, targets, learning rate)\n",
    "    \"\"\"\n",
    "    # TODO: Implement Function\n",
    "    \n",
    "    return tf.placeholder(tf.int32, [None, None], name='input'), tf.placeholder(tf.int32, [None, None], name='targets'), tf.placeholder(tf.float32, name='learning_rate')\n",
    "\n",
    "\n",
    "\"\"\"\n",
    "DON'T MODIFY ANYTHING IN THIS CELL THAT IS BELOW THIS LINE\n",
    "\"\"\"\n",
    "tests.test_get_inputs(get_inputs)"
   ]
  },
  {
   "cell_type": "markdown",
   "metadata": {},
   "source": [
    "### Build RNN Cell and Initialize\n",
    "Stack one or more [`BasicLSTMCells`](https://www.tensorflow.org/api_docs/python/tf/contrib/rnn/BasicLSTMCell) in a [`MultiRNNCell`](https://www.tensorflow.org/api_docs/python/tf/contrib/rnn/MultiRNNCell).\n",
    "- The Rnn size should be set using `rnn_size`\n",
    "- Initalize Cell State using the MultiRNNCell's [`zero_state()`](https://www.tensorflow.org/api_docs/python/tf/contrib/rnn/MultiRNNCell#zero_state) function\n",
    "    - Apply the name \"initial_state\" to the initial state using [`tf.identity()`](https://www.tensorflow.org/api_docs/python/tf/identity)\n",
    "\n",
    "Return the cell and initial state in the following tuple `(Cell, InitialState)`"
   ]
  },
  {
   "cell_type": "code",
   "execution_count": 9,
   "metadata": {},
   "outputs": [
    {
     "name": "stdout",
     "output_type": "stream",
     "text": [
      "Tests Passed\n"
     ]
    }
   ],
   "source": [
    "def get_init_cell(batch_size, rnn_size):\n",
    "    \"\"\"\n",
    "    Create an RNN Cell and initialize it.\n",
    "    :param batch_size: Size of batches\n",
    "    :param rnn_size: Size of RNNs\n",
    "    :return: Tuple (cell, initialize state)\n",
    "    \"\"\"\n",
    "    # TODO: Implement Function\n",
    "    \n",
    "    # basic lstm\n",
    "    lstm = tf.contrib.rnn.BasicLSTMCell(rnn_size)\n",
    "    \n",
    "    drop = tf.contrib.rnn.DropoutWrapper(lstm, output_keep_prob=0.8)\n",
    "    \n",
    "    # mutiRNN cell with one layer\n",
    "    cell = tf.contrib.rnn.MultiRNNCell([drop]*1)\n",
    "    \n",
    "    # initial_state\n",
    "    initial_state = cell.zero_state(batch_size, tf.float32)\n",
    "    \n",
    "    # initial_state name\n",
    "    initial_state = tf.identity(initial_state, name='initial_state')\n",
    "    \n",
    "    return cell, initial_state\n",
    "\n",
    "\n",
    "\"\"\"\n",
    "DON'T MODIFY ANYTHING IN THIS CELL THAT IS BELOW THIS LINE\n",
    "\"\"\"\n",
    "tests.test_get_init_cell(get_init_cell)"
   ]
  },
  {
   "cell_type": "markdown",
   "metadata": {},
   "source": [
    "### Word Embedding\n",
    "Apply embedding to `input_data` using TensorFlow.  Return the embedded sequence."
   ]
  },
  {
   "cell_type": "code",
   "execution_count": 10,
   "metadata": {},
   "outputs": [
    {
     "name": "stdout",
     "output_type": "stream",
     "text": [
      "Tests Passed\n"
     ]
    }
   ],
   "source": [
    "def get_embed(input_data, vocab_size, embed_dim):\n",
    "    \"\"\"\n",
    "    Create embedding for <input_data>.\n",
    "    :param input_data: TF placeholder for text input.\n",
    "    :param vocab_size: Number of words in vocabulary.\n",
    "    :param embed_dim: Number of embedding dimensions\n",
    "    :return: Embedded input.\n",
    "    \"\"\"\n",
    "    # embedding layer with size (vocab_size, embed_dim)\n",
    "    embedding = tf.Variable(tf.random_uniform((vocab_size, embed_dim),-1,1))\n",
    "    \n",
    "    # Applying embedding\n",
    "    embed = tf.nn.embedding_lookup(embedding, input_data)\n",
    "    \n",
    "    return embed\n",
    "\n",
    "\"\"\"\n",
    "DON'T MODIFY ANYTHING IN THIS CELL THAT IS BELOW THIS LINE\n",
    "\"\"\"\n",
    "tests.test_get_embed(get_embed)"
   ]
  },
  {
   "cell_type": "markdown",
   "metadata": {},
   "source": [
    "### Build RNN\n",
    "You created a RNN Cell in the `get_init_cell()` function.  Time to use the cell to create a RNN.\n",
    "- Build the RNN using the [`tf.nn.dynamic_rnn()`](https://www.tensorflow.org/api_docs/python/tf/nn/dynamic_rnn)\n",
    " - Apply the name \"final_state\" to the final state using [`tf.identity()`](https://www.tensorflow.org/api_docs/python/tf/identity)\n",
    "\n",
    "Return the outputs and final_state state in the following tuple `(Outputs, FinalState)` "
   ]
  },
  {
   "cell_type": "code",
   "execution_count": 11,
   "metadata": {},
   "outputs": [
    {
     "name": "stdout",
     "output_type": "stream",
     "text": [
      "Tests Passed\n"
     ]
    }
   ],
   "source": [
    "def build_rnn(cell, inputs):\n",
    "    \"\"\"\n",
    "    Create a RNN using a RNN Cell\n",
    "    :param cell: RNN Cell\n",
    "    :param inputs: Input text data\n",
    "    :return: Tuple (Outputs, Final State)\n",
    "    \"\"\"\n",
    "    # TODO: Implement Function\n",
    "    \n",
    "    #with tf.name_scope(\"RNN_forward\"):\n",
    "    outputs, final_state = tf.nn.dynamic_rnn(cell, inputs, dtype=tf.float32)\n",
    "    \n",
    "    final_state = tf.identity(final_state, name='final_state')\n",
    "    \n",
    "    return outputs, final_state\n",
    "\n",
    "\n",
    "\"\"\"\n",
    "DON'T MODIFY ANYTHING IN THIS CELL THAT IS BELOW THIS LINE\n",
    "\"\"\"\n",
    "tests.test_build_rnn(build_rnn)"
   ]
  },
  {
   "cell_type": "markdown",
   "metadata": {},
   "source": [
    "### Build the Neural Network\n",
    "Apply the functions you implemented above to:\n",
    "- Apply embedding to `input_data` using your `get_embed(input_data, vocab_size, embed_dim)` function.\n",
    "- Build RNN using `cell` and your `build_rnn(cell, inputs)` function.\n",
    "- Apply a fully connected layer with a linear activation and `vocab_size` as the number of outputs.\n",
    "\n",
    "Return the logits and final state in the following tuple (Logits, FinalState) "
   ]
  },
  {
   "cell_type": "code",
   "execution_count": 12,
   "metadata": {},
   "outputs": [
    {
     "name": "stdout",
     "output_type": "stream",
     "text": [
      "Tests Passed\n"
     ]
    }
   ],
   "source": [
    "\n",
    "def build_nn(cell, rnn_size, input_data, vocab_size, embed_dim):\n",
    "    \"\"\"\n",
    "    Build part of the neural network\n",
    "    :param cell: RNN cell\n",
    "    :param rnn_size: Size of rnns\n",
    "    :param input_data: Input data\n",
    "    :param vocab_size: Vocabulary size\n",
    "    :param embed_dim: Number of embedding dimensions\n",
    "    :return: Tuple (Logits, FinalState)\n",
    "    \"\"\"\n",
    "    # TODO: Implement Function\n",
    "    \n",
    "    \n",
    "    # First layer. Applying embedding\n",
    "    embedded = get_embed(input_data, vocab_size, embed_dim)\n",
    "    \n",
    "    # build_rnn\n",
    "    rnn_outputs, final_state = build_rnn(cell, embedded)\n",
    "    \n",
    "    # fully connected layer. NO ACTIVATION  \n",
    "    logits = tf.contrib.layers.fully_connected(rnn_outputs, vocab_size, weights_initializer=tf.truncated_normal_initializer(mean=0.0, stddev=0.1))\n",
    "    \n",
    "    \n",
    "    return logits, final_state\n",
    "\n",
    "\n",
    "\"\"\"\n",
    "DON'T MODIFY ANYTHING IN THIS CELL THAT IS BELOW THIS LINE\n",
    "\"\"\"\n",
    "tests.test_build_nn(build_nn)"
   ]
  },
  {
   "cell_type": "markdown",
   "metadata": {},
   "source": [
    "### Batches\n",
    "Implement `get_batches` to create batches of input and targets using `int_text`.  The batches should be a Numpy array with the shape `(number of batches, 2, batch size, sequence length)`. Each batch contains two elements:\n",
    "- The first element is a single batch of **input** with the shape `[batch size, sequence length]`\n",
    "- The second element is a single batch of **targets** with the shape `[batch size, sequence length]`\n",
    "\n",
    "If you can't fill the last batch with enough data, drop the last batch.\n",
    "\n",
    "For exmple, `get_batches([1, 2, 3, 4, 5, 6, 7, 8, 9, 10, 11, 12, 13, 14, 15, 16, 17, 18, 19, 20], 3, 2)` would return a Numpy array of the following:\n",
    "```\n",
    "[\n",
    "  # First Batch\n",
    "  [\n",
    "    # Batch of Input\n",
    "    [[ 1  2], [ 7  8], [13 14]]\n",
    "    # Batch of targets\n",
    "    [[ 2  3], [ 8  9], [14 15]]\n",
    "  ]\n",
    "\n",
    "  # Second Batch\n",
    "  [\n",
    "    # Batch of Input\n",
    "    [[ 3  4], [ 9 10], [15 16]]\n",
    "    # Batch of targets\n",
    "    [[ 4  5], [10 11], [16 17]]\n",
    "  ]\n",
    "\n",
    "  # Third Batch\n",
    "  [\n",
    "    # Batch of Input\n",
    "    [[ 5  6], [11 12], [17 18]]\n",
    "    # Batch of targets\n",
    "    [[ 6  7], [12 13], [18  1]]\n",
    "  ]\n",
    "]\n",
    "```\n",
    "\n",
    "Notice that the last target value in the last batch is the first input value of the first batch. In this case, `1`. This is a common technique used when creating sequence batches, although it is rather unintuitive."
   ]
  },
  {
   "cell_type": "code",
   "execution_count": 14,
   "metadata": {},
   "outputs": [
    {
     "name": "stdout",
     "output_type": "stream",
     "text": [
      "Tests Passed\n"
     ]
    }
   ],
   "source": [
    "def get_batches(int_text, batch_size, seq_length):\n",
    "    \"\"\"\n",
    "    Return batches of input and target\n",
    "    :param int_text: Text with the words replaced by their ids\n",
    "    :param batch_size: The size of batch\n",
    "    :param seq_length: The length of sequence\n",
    "    :return: Batches as a Numpy array\n",
    "    \"\"\"\n",
    "    # TODO: Implement Function\n",
    "    \n",
    "    elements_in_batch = batch_size*seq_length\n",
    "    \n",
    "    n_batches = len(int_text)//elements_in_batch\n",
    "    \n",
    "    # only full batches\n",
    "    inputs = np.array(int_text[:n_batches*elements_in_batch])\n",
    "    # reshaping the text\n",
    "    inputs = np.reshape(inputs, [batch_size, -1])\n",
    "    \n",
    "    # creating batches array\n",
    "    batches = np.zeros((n_batches, 2, batch_size, seq_length), dtype=np.int64)\n",
    "        \n",
    "    current = 0\n",
    "    \n",
    "    for i in range(0, inputs.shape[1], seq_length):\n",
    "        batches[current][0] = inputs[:, i:i+seq_length]\n",
    "        \n",
    "        try:\n",
    "            batches[current][1] = inputs[:, i+1:i+1+seq_length]\n",
    "        except:\n",
    "            batches[current][1][:, :-1] = inputs[:, i+1:]\n",
    "            batches[current][1][:-1, -1] = inputs[1:, 0]\n",
    "            batches[current][1][-1, -1] = inputs[0, 0]\n",
    "    \n",
    "        current += 1\n",
    "        \n",
    "        \n",
    "    return batches\n",
    "\n",
    "\n",
    "\"\"\"\n",
    "DON'T MODIFY ANYTHING IN THIS CELL THAT IS BELOW THIS LINE\n",
    "\"\"\"\n",
    "tests.test_get_batches(get_batches)"
   ]
  },
  {
   "cell_type": "markdown",
   "metadata": {},
   "source": [
    "## Neural Network Training\n",
    "### Hyperparameters\n",
    "Tune the following parameters:\n",
    "\n",
    "- Set `num_epochs` to the number of epochs.\n",
    "- Set `batch_size` to the batch size.\n",
    "- Set `rnn_size` to the size of the RNNs.\n",
    "- Set `embed_dim` to the size of the embedding.\n",
    "- Set `seq_length` to the length of sequence.\n",
    "- Set `learning_rate` to the learning rate.\n",
    "- Set `show_every_n_batches` to the number of batches the neural network should print progress."
   ]
  },
  {
   "cell_type": "code",
   "execution_count": 18,
   "metadata": {
    "collapsed": true
   },
   "outputs": [],
   "source": [
    "# Number of Epochs\n",
    "num_epochs = 100\n",
    "# Batch Size\n",
    "batch_size = 256\n",
    "# RNN Size\n",
    "rnn_size = 512\n",
    "# Embedding Dimension Size\n",
    "embed_dim = 300\n",
    "# Sequence Length\n",
    "seq_length = 12\n",
    "# Learning Rate\n",
    "learning_rate = 0.001\n",
    "# Show stats for every n number of batches\n",
    "show_every_n_batches = 250\n",
    "\n",
    "\"\"\"\n",
    "DON'T MODIFY ANYTHING IN THIS CELL THAT IS BELOW THIS LINE\n",
    "\"\"\"\n",
    "save_dir = './save'"
   ]
  },
  {
   "cell_type": "markdown",
   "metadata": {},
   "source": [
    "## Modified Build Graph and Train - Writing cost to summary FileWriter"
   ]
  },
  {
   "cell_type": "code",
   "execution_count": 19,
   "metadata": {
    "collapsed": true
   },
   "outputs": [],
   "source": [
    "\"\"\"\n",
    "DON'T MODIFY ANYTHING IN THIS CELL\n",
    "\"\"\"\n",
    "from tensorflow.contrib import seq2seq\n",
    "tf.reset_default_graph()\n",
    "train_graph = tf.Graph()\n",
    "with train_graph.as_default():\n",
    "    vocab_size = len(int_to_vocab)\n",
    "    input_text, targets, lr = get_inputs()\n",
    "    input_data_shape = tf.shape(input_text)\n",
    "    cell, initial_state = get_init_cell(input_data_shape[0], rnn_size)\n",
    "    logits, final_state = build_nn(cell, rnn_size, input_text, vocab_size, embed_dim)\n",
    "\n",
    "    # Probabilities for generating words\n",
    "    probs = tf.nn.softmax(logits, name='probs')\n",
    "    \n",
    "    # Loss function\n",
    "    cost = seq2seq.sequence_loss(\n",
    "        logits,\n",
    "        targets,\n",
    "        tf.ones([input_data_shape[0], input_data_shape[1]]))\n",
    "    tf.summary.scalar('cost', cost)\n",
    "    \n",
    "    merged = tf.summary.merge_all()\n",
    "    # Optimizer\n",
    "    optimizer = tf.train.AdamOptimizer(lr)\n",
    "\n",
    "    # Gradient Clipping\n",
    "    gradients = optimizer.compute_gradients(cost)\n",
    "    capped_gradients = [(tf.clip_by_value(grad, -1., 1.), var) for grad, var in gradients if grad is not None]\n",
    "    train_op = optimizer.apply_gradients(capped_gradients)\n",
    "    writer = tf.summary.FileWriter('logs/2')\n",
    "    "
   ]
  },
  {
   "cell_type": "code",
   "execution_count": 20,
   "metadata": {},
   "outputs": [
    {
     "name": "stdout",
     "output_type": "stream",
     "text": [
      "Epoch 0, Step 0, training loss 8.83698\n",
      "Epoch 0, Step 20, training loss 6.28274\n",
      "Epoch 1, Step 0, training loss 6.04188\n",
      "Epoch 1, Step 20, training loss 5.73743\n",
      "Epoch 2, Step 0, training loss 5.52662\n",
      "Epoch 2, Step 20, training loss 5.49475\n",
      "Epoch 3, Step 0, training loss 5.28648\n",
      "Epoch 3, Step 20, training loss 5.31642\n",
      "Epoch 4, Step 0, training loss 5.103\n",
      "Epoch 4, Step 20, training loss 5.17533\n",
      "Epoch 5, Step 0, training loss 4.95083\n",
      "Epoch 5, Step 20, training loss 5.06048\n",
      "Epoch 6, Step 0, training loss 4.83614\n",
      "Epoch 6, Step 20, training loss 4.94484\n",
      "Epoch 7, Step 0, training loss 4.72496\n",
      "Epoch 7, Step 20, training loss 4.84477\n",
      "Epoch 8, Step 0, training loss 4.615\n",
      "Epoch 8, Step 20, training loss 4.75796\n",
      "Epoch 9, Step 0, training loss 4.52702\n",
      "Epoch 9, Step 20, training loss 4.65207\n",
      "Epoch 10, Step 0, training loss 4.44413\n",
      "Epoch 10, Step 20, training loss 4.55599\n",
      "Epoch 11, Step 0, training loss 4.3432\n",
      "Epoch 11, Step 20, training loss 4.48391\n",
      "Epoch 12, Step 0, training loss 4.25842\n",
      "Epoch 12, Step 20, training loss 4.39352\n",
      "Epoch 13, Step 0, training loss 4.18516\n",
      "Epoch 13, Step 20, training loss 4.32961\n",
      "Epoch 14, Step 0, training loss 4.10885\n",
      "Epoch 14, Step 20, training loss 4.25318\n",
      "Epoch 15, Step 0, training loss 4.04379\n",
      "Epoch 15, Step 20, training loss 4.17581\n",
      "Epoch 16, Step 0, training loss 3.97958\n",
      "Epoch 16, Step 20, training loss 4.09031\n",
      "Epoch 17, Step 0, training loss 3.88959\n",
      "Epoch 17, Step 20, training loss 4.03459\n",
      "Epoch 18, Step 0, training loss 3.79642\n",
      "Epoch 18, Step 20, training loss 3.9627\n",
      "Epoch 19, Step 0, training loss 3.74116\n",
      "Epoch 19, Step 20, training loss 3.8655\n",
      "Epoch 20, Step 0, training loss 3.66206\n",
      "Epoch 20, Step 20, training loss 3.809\n",
      "Epoch 21, Step 0, training loss 3.57227\n",
      "Epoch 21, Step 20, training loss 3.7232\n",
      "Epoch 22, Step 0, training loss 3.51289\n",
      "Epoch 22, Step 20, training loss 3.65989\n",
      "Epoch 23, Step 0, training loss 3.43891\n",
      "Epoch 23, Step 20, training loss 3.5767\n",
      "Epoch 24, Step 0, training loss 3.38103\n",
      "Epoch 24, Step 20, training loss 3.5559\n",
      "Epoch 25, Step 0, training loss 3.29808\n",
      "Epoch 25, Step 20, training loss 3.46565\n",
      "Epoch 26, Step 0, training loss 3.2307\n",
      "Epoch 26, Step 20, training loss 3.40897\n",
      "Epoch 27, Step 0, training loss 3.14665\n",
      "Epoch 27, Step 20, training loss 3.31823\n",
      "Epoch 28, Step 0, training loss 3.05907\n",
      "Epoch 28, Step 20, training loss 3.26584\n",
      "Epoch 29, Step 0, training loss 3.01732\n",
      "Epoch 29, Step 20, training loss 3.23345\n",
      "Epoch 30, Step 0, training loss 2.97466\n",
      "Epoch 30, Step 20, training loss 3.17062\n",
      "Epoch 31, Step 0, training loss 2.89659\n",
      "Epoch 31, Step 20, training loss 3.07969\n",
      "Epoch 32, Step 0, training loss 2.82657\n",
      "Epoch 32, Step 20, training loss 3.0377\n",
      "Epoch 33, Step 0, training loss 2.77741\n",
      "Epoch 33, Step 20, training loss 2.9781\n",
      "Epoch 34, Step 0, training loss 2.69268\n",
      "Epoch 34, Step 20, training loss 2.90659\n",
      "Epoch 35, Step 0, training loss 2.67195\n",
      "Epoch 35, Step 20, training loss 2.86431\n",
      "Epoch 36, Step 0, training loss 2.60784\n",
      "Epoch 36, Step 20, training loss 2.80416\n",
      "Epoch 37, Step 0, training loss 2.52852\n",
      "Epoch 37, Step 20, training loss 2.77401\n",
      "Epoch 38, Step 0, training loss 2.48125\n",
      "Epoch 38, Step 20, training loss 2.68671\n",
      "Epoch 39, Step 0, training loss 2.42373\n",
      "Epoch 39, Step 20, training loss 2.63048\n",
      "Epoch 40, Step 0, training loss 2.38729\n",
      "Epoch 40, Step 20, training loss 2.59422\n",
      "Epoch 41, Step 0, training loss 2.30366\n",
      "Epoch 41, Step 20, training loss 2.54164\n",
      "Epoch 42, Step 0, training loss 2.27225\n",
      "Epoch 42, Step 20, training loss 2.48998\n",
      "Epoch 43, Step 0, training loss 2.23622\n",
      "Epoch 43, Step 20, training loss 2.45533\n",
      "Epoch 44, Step 0, training loss 2.18382\n",
      "Epoch 44, Step 20, training loss 2.40803\n",
      "Epoch 45, Step 0, training loss 2.14374\n",
      "Epoch 45, Step 20, training loss 2.37976\n",
      "Epoch 46, Step 0, training loss 2.09086\n",
      "Epoch 46, Step 20, training loss 2.31775\n",
      "Epoch 47, Step 0, training loss 2.06141\n",
      "Epoch 47, Step 20, training loss 2.27777\n",
      "Epoch 48, Step 0, training loss 2.02304\n",
      "Epoch 48, Step 20, training loss 2.25472\n",
      "Epoch 49, Step 0, training loss 1.96502\n",
      "Epoch 49, Step 20, training loss 2.25368\n",
      "Epoch 50, Step 0, training loss 1.95267\n",
      "Epoch 50, Step 20, training loss 2.2007\n",
      "Epoch 51, Step 0, training loss 1.93535\n",
      "Epoch 51, Step 20, training loss 2.17752\n",
      "Epoch 52, Step 0, training loss 1.88434\n",
      "Epoch 52, Step 20, training loss 2.14248\n",
      "Epoch 53, Step 0, training loss 1.8593\n",
      "Epoch 53, Step 20, training loss 2.10119\n",
      "Epoch 54, Step 0, training loss 1.81524\n",
      "Epoch 54, Step 20, training loss 2.06398\n",
      "Epoch 55, Step 0, training loss 1.81587\n",
      "Epoch 55, Step 20, training loss 2.04395\n",
      "Epoch 56, Step 0, training loss 1.77155\n",
      "Epoch 56, Step 20, training loss 2.02211\n",
      "Epoch 57, Step 0, training loss 1.73495\n",
      "Epoch 57, Step 20, training loss 1.9934\n",
      "Epoch 58, Step 0, training loss 1.72125\n",
      "Epoch 58, Step 20, training loss 1.98093\n",
      "Epoch 59, Step 0, training loss 1.69063\n",
      "Epoch 59, Step 20, training loss 1.96251\n",
      "Epoch 60, Step 0, training loss 1.69455\n",
      "Epoch 60, Step 20, training loss 1.93367\n",
      "Epoch 61, Step 0, training loss 1.67\n",
      "Epoch 61, Step 20, training loss 1.91003\n",
      "Epoch 62, Step 0, training loss 1.64467\n",
      "Epoch 62, Step 20, training loss 1.90231\n",
      "Epoch 63, Step 0, training loss 1.62686\n",
      "Epoch 63, Step 20, training loss 1.87406\n",
      "Epoch 64, Step 0, training loss 1.59877\n",
      "Epoch 64, Step 20, training loss 1.84537\n",
      "Epoch 65, Step 0, training loss 1.59058\n",
      "Epoch 65, Step 20, training loss 1.84161\n",
      "Epoch 66, Step 0, training loss 1.56327\n",
      "Epoch 66, Step 20, training loss 1.84196\n",
      "Epoch 67, Step 0, training loss 1.57071\n",
      "Epoch 67, Step 20, training loss 1.80785\n",
      "Epoch 68, Step 0, training loss 1.54841\n",
      "Epoch 68, Step 20, training loss 1.83676\n",
      "Epoch 69, Step 0, training loss 1.54353\n",
      "Epoch 69, Step 20, training loss 1.79708\n",
      "Epoch 70, Step 0, training loss 1.54038\n",
      "Epoch 70, Step 20, training loss 1.78454\n",
      "Epoch 71, Step 0, training loss 1.50751\n",
      "Epoch 71, Step 20, training loss 1.77228\n",
      "Epoch 72, Step 0, training loss 1.4966\n",
      "Epoch 72, Step 20, training loss 1.75522\n",
      "Epoch 73, Step 0, training loss 1.48894\n",
      "Epoch 73, Step 20, training loss 1.75203\n",
      "Epoch 74, Step 0, training loss 1.47993\n",
      "Epoch 74, Step 20, training loss 1.73583\n",
      "Epoch 75, Step 0, training loss 1.46256\n",
      "Epoch 75, Step 20, training loss 1.72921\n",
      "Epoch 76, Step 0, training loss 1.45078\n",
      "Epoch 76, Step 20, training loss 1.72423\n",
      "Epoch 77, Step 0, training loss 1.44272\n",
      "Epoch 77, Step 20, training loss 1.709\n",
      "Epoch 78, Step 0, training loss 1.44535\n",
      "Epoch 78, Step 20, training loss 1.70683\n",
      "Epoch 79, Step 0, training loss 1.42865\n",
      "Epoch 79, Step 20, training loss 1.68667\n",
      "Epoch 80, Step 0, training loss 1.42846\n",
      "Epoch 80, Step 20, training loss 1.68639\n",
      "Epoch 81, Step 0, training loss 1.41669\n",
      "Epoch 81, Step 20, training loss 1.67741\n",
      "Epoch 82, Step 0, training loss 1.41167\n",
      "Epoch 82, Step 20, training loss 1.68306\n",
      "Epoch 83, Step 0, training loss 1.41577\n",
      "Epoch 83, Step 20, training loss 1.68203\n",
      "Epoch 84, Step 0, training loss 1.3997\n",
      "Epoch 84, Step 20, training loss 1.67249\n",
      "Epoch 85, Step 0, training loss 1.39776\n",
      "Epoch 85, Step 20, training loss 1.67438\n",
      "Epoch 86, Step 0, training loss 1.396\n",
      "Epoch 86, Step 20, training loss 1.66756\n",
      "Epoch 87, Step 0, training loss 1.39409\n",
      "Epoch 87, Step 20, training loss 1.65966\n",
      "Epoch 88, Step 0, training loss 1.39035\n",
      "Epoch 88, Step 20, training loss 1.65352\n",
      "Epoch 89, Step 0, training loss 1.39792\n",
      "Epoch 89, Step 20, training loss 1.66001\n",
      "Epoch 90, Step 0, training loss 1.38663\n",
      "Epoch 90, Step 20, training loss 1.65311\n",
      "Epoch 91, Step 0, training loss 1.38121\n",
      "Epoch 91, Step 20, training loss 1.65242\n",
      "Epoch 92, Step 0, training loss 1.37129\n",
      "Epoch 92, Step 20, training loss 1.642\n",
      "Epoch 93, Step 0, training loss 1.37101\n",
      "Epoch 93, Step 20, training loss 1.63436\n",
      "Epoch 94, Step 0, training loss 1.36164\n",
      "Epoch 94, Step 20, training loss 1.63836\n",
      "Epoch 95, Step 0, training loss 1.37526\n",
      "Epoch 95, Step 20, training loss 1.63242\n",
      "Epoch 96, Step 0, training loss 1.35214\n",
      "Epoch 96, Step 20, training loss 1.63227\n",
      "Epoch 97, Step 0, training loss 1.36267\n",
      "Epoch 97, Step 20, training loss 1.633\n",
      "Epoch 98, Step 0, training loss 1.35751\n",
      "Epoch 98, Step 20, training loss 1.62623\n",
      "Epoch 99, Step 0, training loss 1.3492\n",
      "Epoch 99, Step 20, training loss 1.6205\n",
      "Model Trained and Saved\n"
     ]
    }
   ],
   "source": [
    "\"\"\"\n",
    "DON'T MODIFY ANYTHING IN THIS CELL\n",
    "\"\"\"\n",
    "batches = get_batches(int_text, batch_size, seq_length)\n",
    "\n",
    "with tf.Session(graph=train_graph) as sess:\n",
    "    \n",
    "    sess.run(tf.global_variables_initializer())\n",
    "    \n",
    "    writer.add_graph(sess.graph)\n",
    "    \n",
    "    for epoch_i in range(num_epochs):\n",
    "        state = sess.run(initial_state, {input_text: batches[0][0]})\n",
    "\n",
    "        for batch_i, (x, y) in enumerate(batches):\n",
    "            feed = {\n",
    "                input_text: x,\n",
    "                targets: y,\n",
    "                initial_state: state,\n",
    "                lr: learning_rate}\n",
    "            train_loss, state, _ , summary = sess.run([cost, final_state, train_op, merged], feed)\n",
    "\n",
    "            # Show every <show_every_n_batches> batches\n",
    "            if batch_i%20== 0:\n",
    "                    \n",
    "                    writer.add_summary(summary, batch_i)\n",
    "                    print('Epoch %d, Step %d, training loss %g' %(epoch_i, batch_i, train_loss))\n",
    "\n",
    "    # Save Model\n",
    "    saver = tf.train.Saver()\n",
    "    saver.save(sess, save_dir)\n",
    "    print('Model Trained and Saved')"
   ]
  },
  {
   "cell_type": "markdown",
   "metadata": {},
   "source": [
    "## Save Parameters\n",
    "Save `seq_length` and `save_dir` for generating a new TV script."
   ]
  },
  {
   "cell_type": "code",
   "execution_count": 21,
   "metadata": {
    "collapsed": true
   },
   "outputs": [],
   "source": [
    "\"\"\"\n",
    "DON'T MODIFY ANYTHING IN THIS CELL\n",
    "\"\"\"\n",
    "# Save parameters for checkpoint\n",
    "helper.save_params((seq_length, save_dir))"
   ]
  },
  {
   "cell_type": "markdown",
   "metadata": {},
   "source": [
    "# Checkpoint"
   ]
  },
  {
   "cell_type": "code",
   "execution_count": 22,
   "metadata": {
    "collapsed": true
   },
   "outputs": [],
   "source": [
    "\"\"\"\n",
    "DON'T MODIFY ANYTHING IN THIS CELL\n",
    "\"\"\"\n",
    "import tensorflow as tf\n",
    "import numpy as np\n",
    "import helper\n",
    "import problem_unittests as tests\n",
    "\n",
    "_, vocab_to_int, int_to_vocab, token_dict = helper.load_preprocess()\n",
    "seq_length, load_dir = helper.load_params()"
   ]
  },
  {
   "cell_type": "markdown",
   "metadata": {},
   "source": [
    "## Implement Generate Functions\n",
    "### Get Tensors\n",
    "Get tensors from `loaded_graph` using the function [`get_tensor_by_name()`](https://www.tensorflow.org/api_docs/python/tf/Graph#get_tensor_by_name).  Get the tensors using the following names:\n",
    "- \"input:0\"\n",
    "- \"initial_state:0\"\n",
    "- \"final_state:0\"\n",
    "- \"probs:0\"\n",
    "\n",
    "Return the tensors in the following tuple `(InputTensor, InitialStateTensor, FinalStateTensor, ProbsTensor)` "
   ]
  },
  {
   "cell_type": "code",
   "execution_count": 23,
   "metadata": {},
   "outputs": [
    {
     "name": "stdout",
     "output_type": "stream",
     "text": [
      "Tests Passed\n"
     ]
    }
   ],
   "source": [
    "def get_tensors(loaded_graph):\n",
    "    \"\"\"\n",
    "    Get input, initial state, final state, and probabilities tensor from <loaded_graph>\n",
    "    :param loaded_graph: TensorFlow graph loaded from file\n",
    "    :return: Tuple (InputTensor, InitialStateTensor, FinalStateTensor, ProbsTensor)\n",
    "    \"\"\"\n",
    "    # TODO: Implement Function\n",
    "    InputTensor = loaded_graph.get_tensor_by_name(\"input:0\")\n",
    "    InitialStateTensor = loaded_graph.get_tensor_by_name(\"initial_state:0\")\n",
    "    FinalStateTensor = loaded_graph.get_tensor_by_name(\"final_state:0\")\n",
    "    ProbsTensor = loaded_graph.get_tensor_by_name(\"probs:0\")\n",
    "    \n",
    "    return (InputTensor, InitialStateTensor, FinalStateTensor, ProbsTensor)\n",
    "\n",
    "\n",
    "\"\"\"\n",
    "DON'T MODIFY ANYTHING IN THIS CELL THAT IS BELOW THIS LINE\n",
    "\"\"\"\n",
    "tests.test_get_tensors(get_tensors)"
   ]
  },
  {
   "cell_type": "markdown",
   "metadata": {},
   "source": [
    "### Choose Word\n",
    "Implement the `pick_word()` function to select the next word using `probabilities`."
   ]
  },
  {
   "cell_type": "code",
   "execution_count": 24,
   "metadata": {},
   "outputs": [
    {
     "name": "stdout",
     "output_type": "stream",
     "text": [
      "Tests Passed\n"
     ]
    }
   ],
   "source": [
    "def pick_word(probabilities, int_to_vocab):\n",
    "    \"\"\"\n",
    "    Pick the next word in the generated text\n",
    "    :param probabilities: Probabilites of the next word\n",
    "    :param int_to_vocab: Dictionary of word ids as the keys and words as the values\n",
    "    :return: String of the predicted word\n",
    "    \"\"\"\n",
    "    max_idx = np.argmax(probabilities)\n",
    "    word = int_to_vocab[max_idx]\n",
    "    return word\n",
    "\n",
    "\n",
    "\"\"\"\n",
    "DON'T MODIFY ANYTHING IN THIS CELL THAT IS BELOW THIS LINE\n",
    "\"\"\"\n",
    "tests.test_pick_word(pick_word)"
   ]
  },
  {
   "cell_type": "markdown",
   "metadata": {},
   "source": [
    "## Generate TV Script\n",
    "This will generate the TV script for you.  Set `gen_length` to the length of TV script you want to generate."
   ]
  },
  {
   "cell_type": "code",
   "execution_count": 25,
   "metadata": {},
   "outputs": [
    {
     "name": "stdout",
     "output_type": "stream",
     "text": [
      "moe_szyslak: yeah, how far do they go back?\n",
      "lenny_leonard: six about that...\n",
      "moe_szyslak:(into phone) yeah-- oh yeah!\n",
      "marge_simpson: you, moe?\n",
      "homer_simpson: moe, i was just thinking.\n",
      "moe_szyslak:(realizing, to sound) what kind of your daughter.\n",
      "chief_wiggum:(looking at watch) oh homer, i'm the best book out of, all right, i've been using. you can see, government...\n",
      "chief_wiggum: well, if you like this is gonna be my best friend you've got the baby of a drunk. it's great, moe? you shouldn't have my ma back.\n",
      "moe_szyslak: hey, i don't need no advice from no. i'm gonna go and, uh... what do you do?\n",
      "homer_simpson: well, it's one--(nervous chuckle)\n",
      "homer_simpson:(chuckles) all right! just this guy i know one\n",
      "moe_szyslak: what are you, i'm gonna do something for your last date, all.\n",
      "moe_szyslak:(lowering out of the minute.\n"
     ]
    }
   ],
   "source": [
    "gen_length = 200\n",
    "# homer_simpson, moe_szyslak, or Barney_Gumble\n",
    "prime_word = 'moe_szyslak'\n",
    "\n",
    "\"\"\"\n",
    "DON'T MODIFY ANYTHING IN THIS CELL THAT IS BELOW THIS LINE\n",
    "\"\"\"\n",
    "loaded_graph = tf.Graph()\n",
    "with tf.Session(graph=loaded_graph) as sess:\n",
    "    # Load saved model\n",
    "    loader = tf.train.import_meta_graph(load_dir + '.meta')\n",
    "    loader.restore(sess, load_dir)\n",
    "\n",
    "    # Get Tensors from loaded model\n",
    "    input_text, initial_state, final_state, probs = get_tensors(loaded_graph)\n",
    "\n",
    "    # Sentences generation setup\n",
    "    gen_sentences = [prime_word + ':']\n",
    "    prev_state = sess.run(initial_state, {input_text: np.array([[1]])})\n",
    "\n",
    "    # Generate sentences\n",
    "    for n in range(gen_length):\n",
    "        # Dynamic Input\n",
    "        dyn_input = [[vocab_to_int[word] for word in gen_sentences[-seq_length:]]]\n",
    "        dyn_seq_length = len(dyn_input[0])\n",
    "\n",
    "        # Get Prediction\n",
    "        probabilities, prev_state = sess.run(\n",
    "            [probs, final_state],\n",
    "            {input_text: dyn_input, initial_state: prev_state})\n",
    "        \n",
    "        pred_word = pick_word(probabilities[dyn_seq_length-1], int_to_vocab)\n",
    "\n",
    "        gen_sentences.append(pred_word)\n",
    "    \n",
    "    # Remove tokens\n",
    "    tv_script = ' '.join(gen_sentences)\n",
    "    for key, token in token_dict.items():\n",
    "        ending = ' ' if key in ['\\n', '(', '\"'] else ''\n",
    "        tv_script = tv_script.replace(' ' + token.lower(), key)\n",
    "    tv_script = tv_script.replace('\\n ', '\\n')\n",
    "    tv_script = tv_script.replace('( ', '(')\n",
    "        \n",
    "    print(tv_script)"
   ]
  },
  {
   "cell_type": "markdown",
   "metadata": {},
   "source": [
    "# The TV Script is Nonsensical\n",
    "It's ok if the TV script doesn't make any sense.  We trained on less than a megabyte of text.  In order to get good results, you'll have to use a smaller vocabulary or get more data.  Luckly there's more data!  As we mentioned in the begging of this project, this is a subset of [another dataset](https://www.kaggle.com/wcukierski/the-simpsons-by-the-data).  We didn't have you train on all the data, because that would take too long.  However, you are free to train your neural network on all the data.  After you complete the project, of course.\n",
    "# Submitting This Project\n",
    "When submitting this project, make sure to run all the cells before saving the notebook. Save the notebook file as \"dlnd_tv_script_generation.ipynb\" and save it as a HTML file under \"File\" -> \"Download as\". Include the \"helper.py\" and \"problem_unittests.py\" files in your submission."
   ]
  }
 ],
 "metadata": {
  "kernelspec": {
   "display_name": "Python 3",
   "language": "python",
   "name": "python3"
  },
  "language_info": {
   "codemirror_mode": {
    "name": "ipython",
    "version": 3
   },
   "file_extension": ".py",
   "mimetype": "text/x-python",
   "name": "python",
   "nbconvert_exporter": "python",
   "pygments_lexer": "ipython3",
   "version": "3.5.3"
  },
  "widgets": {
   "state": {},
   "version": "1.1.2"
  }
 },
 "nbformat": 4,
 "nbformat_minor": 1
}
